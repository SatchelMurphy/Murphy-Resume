{
  "cells": [
    {
      "cell_type": "raw",
      "metadata": {},
      "source": [
        "---\n",
        "title: \"Client Report - Late Flights and Missing Data\"\n",
        "subtitle: \"Course DS 250\"\n",
        "author: \"Satchel Murphy\"\n",
        "format:\n",
        "  html:\n",
        "    self-contained: true\n",
        "    page-layout: full\n",
        "    title-block-banner: true\n",
        "    toc: true\n",
        "    toc-depth: 3\n",
        "    toc-location: body\n",
        "    number-sections: false\n",
        "    html-math-method: katex\n",
        "    code-fold: true\n",
        "    code-summary: \"Show the code\"\n",
        "    code-overflow: wrap\n",
        "    code-copy: hover\n",
        "    code-tools:\n",
        "        source: false\n",
        "        toggle: true\n",
        "        caption: See code\n",
        "    \n",
        "---"
      ],
      "id": "b37806e0"
    },
    {
      "cell_type": "code",
      "metadata": {},
      "source": [
        "#| label: libraries\n",
        "#| include: false\n",
        "import pandas as pd\n",
        "import altair as alt\n",
        "import numpy as np\n",
        "\n",
        "from IPython.display import Markdown\n",
        "from IPython.display import display\n",
        "from tabulate import tabulate"
      ],
      "id": "libraries",
      "execution_count": null,
      "outputs": []
    },
    {
      "cell_type": "markdown",
      "metadata": {},
      "source": [
        "## Elevator pitch\n",
        "\n",
        "_paste your elevator pitch here_\n"
      ],
      "id": "c2340a47"
    },
    {
      "cell_type": "code",
      "metadata": {},
      "source": [
        "#| label: project data\n",
        "#| code-summary: Read and format project data\n",
        "# Include and execute your code here\n",
        "url=\"https://raw.githubusercontent.com/byuidatascience/data4missing/master/data-raw/flights_missing/flights_missing.json\"\n",
        "flight_data=pd.read_json(url)"
      ],
      "id": "project-data",
      "execution_count": null,
      "outputs": []
    },
    {
      "cell_type": "markdown",
      "metadata": {},
      "source": [
        "__Highlight the grand questions__\n",
        "\n",
        "## GRAND QUESTION 1\n",
        "\n",
        "__Which airport has the worst delays?__\n",
        "\n",
        "_type your results and analysis here_\n"
      ],
      "id": "945b86b6"
    },
    {
      "cell_type": "code",
      "metadata": {},
      "source": [
        "#| label: Worst Delays\n",
        "#| code-summary: Read and format data\n",
        "# Include and execute your code here\n",
        "flight_data = flight_data.assign(average_delay_time = flight_data.minutes_delayed_total/flight_data.num_of_delays_total)\n"
      ],
      "id": "Worst-Delays",
      "execution_count": null,
      "outputs": []
    },
    {
      "cell_type": "markdown",
      "metadata": {},
      "source": [
        "_include figures in chunks and discuss your findings in the figure._\n"
      ],
      "id": "ea535130"
    },
    {
      "cell_type": "code",
      "metadata": {},
      "source": [
        "#| label: Airport Delays\n",
        "#| fig-cap: '\"We were supposed to be leaving an hour ago!\"'\n",
        "#| fig-align: center\n",
        "# Include and execute your code here\n",
        "title=\"Among Other Airlines, ORD Has The Highest Overall Delay Times\"\n",
        "flight_chart = alt.Chart(flight_data, title=title, width=500).mark_boxplot().encode(\n",
        "    x=alt.X(\"average_delay_time\", title = \"Minutes\"),\n",
        "    y=alt.Y(\"airport_code\", title= \"Airport Code\")\n",
        "    )\n",
        "\n",
        "\n",
        "flight_data=flight_data.assign(hours_delayed_total=flight_data.minutes_delayed_total / 60)\n",
        "\n",
        "flight_data.groupby(\"airport_code\").agg(\n",
        "    total_num_flights=('num_of_flights_total','sum'),\n",
        "    total_delayed_flights=('num_of_delays_total', 'sum'),\n",
        "    hours_delay_average=('hours_delayed_total', 'mean')\n",
        ").assign(prop_delayed_flights = lambda x: x.total_delayed_flights / x.total_num_flights )\n",
        "\n",
        "flight_chart.encoding.x.scale = alt.Scale(domain=[30, 100])\n",
        "\n",
        "flight_chart"
      ],
      "id": "Airport-Delays",
      "execution_count": null,
      "outputs": []
    },
    {
      "cell_type": "code",
      "metadata": {},
      "source": [
        "#| label: GQ1 table\n",
        "#| code-summary: table example\n",
        "#| tbl-cap: Not much of a table\n",
        "#| tbl-cap-location: top\n",
        "# Include and execute your code here\n",
        "flight_data = flight_data.head(1000)\\\n",
        "    .groupby(['airport_name', 'minutes_delayed_total','year'])\\\n",
        "    .mean()\\\n",
        "    .tail(15)\\\n",
        "    .filter([\"airport_name\"])\n",
        "\n",
        "display(flight_data)"
      ],
      "id": "GQ1-table",
      "execution_count": null,
      "outputs": []
    },
    {
      "cell_type": "markdown",
      "metadata": {},
      "source": [
        "## GRAND QUESTION 2\n",
        "\n",
        "__What is the best month to fly if you want to avoid delays of any length?__\n",
        "\n",
        "_type your results and analysis here_\n"
      ],
      "id": "8ec773db"
    },
    {
      "cell_type": "code",
      "metadata": {},
      "source": [
        "#| label: GQ2\n",
        "#| code-summary: Read and format data\n",
        "# Include and execute your code here\n"
      ],
      "id": "GQ2",
      "execution_count": null,
      "outputs": []
    },
    {
      "cell_type": "markdown",
      "metadata": {},
      "source": [
        "_include figures in chunks and discuss your findings in the figure._\n"
      ],
      "id": "0f646fd8"
    },
    {
      "cell_type": "code",
      "metadata": {},
      "source": [
        "#| label: GQ2 chart\n",
        "#| code-summary: plot example\n",
        "#| fig-cap: My useless chart\n",
        "#| fig-align: center\n",
        "\n",
        "title_q2 = \"The Overall Worst Month to Fly is Either August or October\"\n",
        "\n",
        "flight_chart_month_delays = alt.Chart(flight_data.dropna(subset= 'month'), title=title_q2, width=500).mark_bar().encode(x=alt.X(\"month\", title = \"Months\"),y=alt.Y(\"num_of_delays_total\", title= \"Total Delays\"))\n",
        "\n",
        "flight_chart_month_delays"
      ],
      "id": "GQ2-chart",
      "execution_count": null,
      "outputs": []
    },
    {
      "cell_type": "code",
      "metadata": {},
      "source": [
        "#| label: GQ2 table\n",
        "#| code-summary: table example\n",
        "#| tbl-cap: Not much of a table\n",
        "#| tbl-cap-location: top\n",
        "# Include and execute your code here\n",
        "#mydat = dat.head(1000)\\\n",
        "#    .groupby('year')\\\n",
        "#    .sum()\\\n",
        "#    .reset_index()\\\n",
        "#    .tail(10)\\\n",
        "#    .filter([\"year\", \"AK\",\"AR\"])\n",
        "\n",
        "#display(mydat)"
      ],
      "id": "GQ2-table",
      "execution_count": null,
      "outputs": []
    },
    {
      "cell_type": "markdown",
      "metadata": {},
      "source": [
        "## GRAND QUESTION 3\n",
        "\n",
        "__Is there a significant impact with \"Mild\" weather delays?__\n",
        "\n",
        "_type your results and analysis here_\n"
      ],
      "id": "9087dfa2"
    },
    {
      "cell_type": "code",
      "metadata": {},
      "source": [
        "#| label: GQ3\n",
        "#| code-summary: Read and format data\n",
        "# Include and execute your code here\n"
      ],
      "id": "GQ3",
      "execution_count": null,
      "outputs": []
    },
    {
      "cell_type": "markdown",
      "metadata": {},
      "source": [
        "_include figures in chunks and discuss your findings in the figure._\n"
      ],
      "id": "e48423ec"
    },
    {
      "cell_type": "code",
      "metadata": {},
      "source": [
        "#| label: GQ3 chart\n",
        "#| code-summary: plot example\n",
        "#| fig-cap: My useless chart\n",
        "#| fig-align: center\n",
        "# Include and execute your code here\n",
        "#alt.Chart(dat.head(200))\\\n",
        "#    .encode(x = \"name\", y = \"AK\")\\\n",
        "#    .mark_bar()"
      ],
      "id": "GQ3-chart",
      "execution_count": null,
      "outputs": []
    },
    {
      "cell_type": "code",
      "metadata": {},
      "source": [
        "#| label: GQ3 table\n",
        "#| code-summary: table example\n",
        "#| tbl-cap: Not much of a table\n",
        "#| tbl-cap-location: top\n",
        "# Include and execute your code here\n",
        "#mydat = dat.head(1000)\\\n",
        "#    .groupby('year')\\\n",
        "#    .sum()\\\n",
        "#    .reset_index()\\\n",
        "#    .tail(10)\\\n",
        "#    .filter([\"year\", \"AK\",\"AR\"])\n",
        "\n",
        "#display(mydat)"
      ],
      "id": "GQ3-table",
      "execution_count": null,
      "outputs": []
    },
    {
      "cell_type": "markdown",
      "metadata": {},
      "source": [
        "## APPENDIX A (Additional Python Code)\n",
        "\n",
        "```python\n",
        "#paste other your code from your python file (.py) here\n",
        "```"
      ],
      "id": "4e587cab"
    }
  ],
  "metadata": {
    "kernelspec": {
      "name": "python3",
      "language": "python",
      "display_name": "Python 3 (ipykernel)"
    }
  },
  "nbformat": 4,
  "nbformat_minor": 5
}